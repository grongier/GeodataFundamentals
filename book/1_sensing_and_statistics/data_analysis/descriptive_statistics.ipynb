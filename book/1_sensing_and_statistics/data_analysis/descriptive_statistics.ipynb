{
 "cells": [
  {
   "cell_type": "markdown",
   "id": "0eedc459",
   "metadata": {},
   "source": [
    "# Descriptive statistics"
   ]
  }
 ],
 "metadata": {
  "language_info": {
   "name": "python"
  }
 },
 "nbformat": 4,
 "nbformat_minor": 5
}
