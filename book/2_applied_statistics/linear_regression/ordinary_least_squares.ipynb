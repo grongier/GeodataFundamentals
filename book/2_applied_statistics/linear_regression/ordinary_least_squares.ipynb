{
 "cells": [
  {
   "cell_type": "markdown",
   "id": "108f1566",
   "metadata": {},
   "source": [
    "# Ordinary least squares"
   ]
  }
 ],
 "metadata": {
  "language_info": {
   "name": "python"
  }
 },
 "nbformat": 4,
 "nbformat_minor": 5
}
