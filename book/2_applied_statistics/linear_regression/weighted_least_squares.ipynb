{
 "cells": [
  {
   "cell_type": "markdown",
   "id": "4c044ca3",
   "metadata": {},
   "source": [
    "# Weighted least squares"
   ]
  }
 ],
 "metadata": {
  "language_info": {
   "name": "python"
  }
 },
 "nbformat": 4,
 "nbformat_minor": 5
}
