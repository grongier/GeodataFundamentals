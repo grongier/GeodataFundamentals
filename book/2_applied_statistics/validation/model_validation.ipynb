{
 "cells": [
  {
   "cell_type": "markdown",
   "id": "ac347c3e",
   "metadata": {},
   "source": [
    "# Model validation"
   ]
  }
 ],
 "metadata": {
  "language_info": {
   "name": "python"
  }
 },
 "nbformat": 4,
 "nbformat_minor": 5
}
