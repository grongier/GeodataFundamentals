{
 "cells": [
  {
   "cell_type": "markdown",
   "id": "606064f3",
   "metadata": {},
   "source": [
    "# Data wrangling"
   ]
  }
 ],
 "metadata": {
  "language_info": {
   "name": "python"
  }
 },
 "nbformat": 4,
 "nbformat_minor": 5
}
