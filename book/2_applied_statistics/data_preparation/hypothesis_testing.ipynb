{
 "cells": [
  {
   "cell_type": "markdown",
   "id": "08b2731c",
   "metadata": {},
   "source": [
    "# Hypothesis testing"
   ]
  }
 ],
 "metadata": {
  "language_info": {
   "name": "python"
  }
 },
 "nbformat": 4,
 "nbformat_minor": 5
}
