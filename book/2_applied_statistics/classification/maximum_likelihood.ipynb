{
 "cells": [
  {
   "cell_type": "markdown",
   "id": "8d8ae81a",
   "metadata": {},
   "source": [
    "# Maximum likelihood"
   ]
  }
 ],
 "metadata": {
  "language_info": {
   "name": "python"
  }
 },
 "nbformat": 4,
 "nbformat_minor": 5
}
