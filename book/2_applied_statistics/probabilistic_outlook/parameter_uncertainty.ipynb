{
 "cells": [
  {
   "cell_type": "markdown",
   "id": "d314a51e",
   "metadata": {},
   "source": [
    "# Parameter uncertainty"
   ]
  }
 ],
 "metadata": {
  "language_info": {
   "name": "python"
  }
 },
 "nbformat": 4,
 "nbformat_minor": 5
}
